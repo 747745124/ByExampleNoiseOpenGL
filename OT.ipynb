{
 "cells": [
  {
   "cell_type": "markdown",
   "metadata": {},
   "source": [
    "## Generate 2D Gaussian Image using Optimal Transport"
   ]
  },
  {
   "cell_type": "code",
   "execution_count": 1,
   "metadata": {},
   "outputs": [],
   "source": [
    "import numpy as np\n",
    "from PIL import Image\n",
    "import matplotlib.pyplot as plt\n",
    "import ot\n",
    "\n",
    "# Generate a random RGB image with Gaussian distribution\n",
    "def generate_gaussian_image(height, width):\n",
    "    mean = [0.5, 0.5, 0.5]\n",
    "    cov = [[0.1, 0, 0], [0, 0.1, 0], [0, 0, 0.1]]\n",
    "    gaussian_image = np.random.multivariate_normal(mean, cov, (height, width))\n",
    "    gaussian_image = np.clip(gaussian_image, 0, 1)\n",
    "    return gaussian_image\n",
    "\n",
    "# Function to permute pixels using optimal transport\n",
    "def permute_image(input_image, gaussian_image):\n",
    "    height, width, _ = input_image.shape\n",
    "    input_flat = input_image.reshape(-1, 3)\n",
    "    gaussian_flat = gaussian_image.reshape(-1, 3)\n",
    "    \n",
    "    # Compute the cost matrix\n",
    "    cost_matrix = ot.dist(input_flat, gaussian_flat)\n",
    "    \n",
    "    # Solve the optimal transport problem\n",
    "    transport_plan = ot.emd(np.ones(len(input_flat)) / len(input_flat), \n",
    "                            np.ones(len(gaussian_flat)) / len(gaussian_flat), \n",
    "                            cost_matrix)\n",
    "    \n",
    "    # Permute the Gaussian image\n",
    "    permuted_indices = np.argmax(transport_plan, axis=1)\n",
    "    permuted_image = gaussian_flat[permuted_indices].reshape(height, width, 3)\n",
    "    \n",
    "    return permuted_image"
   ]
  },
  {
   "cell_type": "code",
   "execution_count": null,
   "metadata": {},
   "outputs": [],
   "source": [
    "# Example usage\n",
    "from numpy import asarray\n",
    "img= Image.open('data/noise/fire.png').convert('RGB')\n",
    "input_image = asarray(img)\n",
    "height, width, _ = input_image.shape\n",
    "gaussian_image = generate_gaussian_image(height, width)\n",
    "permuted_image = permute_image(input_image, gaussian_image)\n",
    "\n",
    "# Plot the images\n",
    "fig, axes = plt.subplots(1, 3, figsize=(15, 5))\n",
    "axes[0].imshow(input_image)\n",
    "axes[0].set_title('Input Image')\n",
    "axes[1].imshow(gaussian_image)\n",
    "axes[1].set_title('Gaussian Image')\n",
    "axes[2].imshow(permuted_image)\n",
    "axes[2].set_title('Permuted Image')\n",
    "plt.show()"
   ]
  }
 ],
 "metadata": {
  "kernelspec": {
   "display_name": "pytf",
   "language": "python",
   "name": "python3"
  },
  "language_info": {
   "codemirror_mode": {
    "name": "ipython",
    "version": 3
   },
   "file_extension": ".py",
   "mimetype": "text/x-python",
   "name": "python",
   "nbconvert_exporter": "python",
   "pygments_lexer": "ipython3",
   "version": "3.9.6"
  }
 },
 "nbformat": 4,
 "nbformat_minor": 2
}
